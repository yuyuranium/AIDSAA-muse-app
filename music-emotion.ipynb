{
 "cells": [
  {
   "cell_type": "code",
   "execution_count": 1,
   "metadata": {
    "_cell_guid": "b1076dfc-b9ad-4769-8c92-a6c4dae69d19",
    "_uuid": "8f2839f25d086af736a60e9eeb907d3b93b6e0e5",
    "tags": []
   },
   "outputs": [],
   "source": [
    "from IPython.display import Audio, Video\n",
    "import pandas as pd\n",
    "import numpy as np\n",
    "import matplotlib.pyplot as plt\n",
    "import seaborn as sns\n",
    "import spotipy\n",
    "from spotipy.oauth2 import SpotifyClientCredentials\n",
    "from spotipy import SpotifyException\n",
    "import urllib\n",
    "import librosa\n",
    "from pydub import AudioSegment\n",
    "import io\n",
    "import xlrd\n",
    "import warnings\n",
    "from scipy.io.wavfile import write\n",
    "import gc\n",
    "import random\n",
    "\n",
    "warnings.filterwarnings('ignore')"
   ]
  },
  {
   "cell_type": "code",
   "execution_count": 2,
   "metadata": {},
   "outputs": [],
   "source": [
    "from tensorflow import keras \n",
    "from keras import layers\n",
    "import tensorflow as tf\n",
    "from keras.models import Sequential\n",
    "from keras.layers import Dense, Activation, Dropout, Conv2D, MaxPool2D, Flatten"
   ]
  },
  {
   "cell_type": "code",
   "execution_count": 3,
   "metadata": {
    "tags": []
   },
   "outputs": [],
   "source": [
    "%matplotlib inline"
   ]
  },
  {
   "cell_type": "code",
   "execution_count": null,
   "metadata": {
    "tags": []
   },
   "outputs": [],
   "source": [
    "client_credentials_manager = SpotifyClientCredentials(client_id=SPOTIFY_CID, client_secret=SPOTIFY_SECRET)\n",
    "spotify = spotipy.Spotify(client_credentials_manager=client_credentials_manager)\n",
    "spotify.max_retries=10\n",
    "spotify.backoff_factor = 0.4\n",
    "spotify.retries = 10"
   ]
  },
  {
   "cell_type": "code",
   "execution_count": 4,
   "metadata": {},
   "outputs": [],
   "source": [
    "dataset1_dir = 'dataset1/music-emotion/song/'\n",
    "dataset2_dir = 'dataset2/'"
   ]
  },
  {
   "cell_type": "code",
   "execution_count": 139,
   "metadata": {},
   "outputs": [],
   "source": [
    "# parameters\n",
    "sr = 22050\n",
    "duration = 4\n",
    "sample_sz = sr * duration\n",
    "arousal_attr1 = {\n",
    "    'mean': 50,\n",
    "    'std_dev': 16.072\n",
    "}\n",
    "valence_attr1 = {\n",
    "    'mean': 50,\n",
    "    'std_dev': 14.5517\n",
    "}\n",
    "arousal_attr2 = {\n",
    "    'mean': 4.32,\n",
    "    'std_dev': 1.15\n",
    "}\n",
    "valence_attr2 = {\n",
    "    'mean': 5.45,\n",
    "    'std_dev': 1.55\n",
    "}"
   ]
  },
  {
   "cell_type": "markdown",
   "metadata": {},
   "source": [
    "# Dataset 1 Loading"
   ]
  },
  {
   "cell_type": "code",
   "execution_count": 183,
   "metadata": {},
   "outputs": [],
   "source": [
    "# Add noise\n",
    "def add_noise(origin_signal, std=0.05):\n",
    "    # std: standard deviation of noise\n",
    "    noise = np.random.normal(0, std, origin_signal.shape)\n",
    "    noise_signal = origin_signal + noise\n",
    "    return noise_signal"
   ]
  },
  {
   "cell_type": "code",
   "execution_count": 184,
   "metadata": {},
   "outputs": [],
   "source": [
    "def gen_dataset(x_url, y_original, x_audio, x_feature, y, aug_times):\n",
    "    global sr, duration, sample_sz\n",
    "\n",
    "\n",
    "    for audio_idx, audio_url in enumerate(x_url):\n",
    "        raw_data, sr = librosa.load(audio_url, sr=sr, mono=True, offset=0.0)\n",
    "        if (y_original[audio_idx][0] < 0 and y_original[audio_idx][1] > 0 ):\n",
    "            stride_duration = 0.35\n",
    "        elif (y_original[audio_idx][0] > 0 and y_original[audio_idx][1] > 0):\n",
    "            stride_duration = 0.5\n",
    "        else:\n",
    "            stride_duration = 1\n",
    "        stride = int(sr * stride_duration)\n",
    "        \n",
    "        for i in range(0, len(raw_data), stride):\n",
    "            split_audio = raw_data[i:i+sample_sz]\n",
    "            if (len(split_audio) < sample_sz):\n",
    "                break\n",
    "            \n",
    "            for j in range(aug_times):\n",
    "                std = random.random() / 30\n",
    "                noise_audio = add_noise(split_audio, std=std)\n",
    "                \n",
    "                feature_mfcc = librosa.feature.mfcc(y=noise_audio, sr=sr, hop_length=sr, n_mfcc=1)\n",
    "                feature_mfcc = feature_mfcc.reshape((1, feature_mfcc.shape[1] * feature_mfcc.shape[0]))\n",
    "                feature_rolloff = librosa.feature.spectral_rolloff(y=noise_audio, sr=sr, hop_length=sr, roll_percent=0.85)\n",
    "                feature_spectral_contrast = librosa.feature.spectral_contrast(y=noise_audio, sr=sr, hop_length=sr, n_bands=1)\n",
    "                feature_spectral_contrast = feature_spectral_contrast.reshape(\n",
    "                    (1, feature_spectral_contrast.shape[1] * feature_spectral_contrast.shape[0]))\n",
    "                feature_rms = librosa.feature.rms(y=noise_audio, hop_length=sr)\n",
    "                feature_combine = np.hstack((feature_rms, feature_mfcc))\n",
    "                feature_combine = np.hstack((feature_combine, feature_rolloff))\n",
    "                feature_combine = np.hstack((feature_combine, feature_spectral_contrast))\n",
    "                \n",
    "                x_audio.append(noise_audio)\n",
    "                y.append(y_original[audio_idx])\n",
    "                x_feature.append(feature_combine[0])"
   ]
  },
  {
   "cell_type": "code",
   "execution_count": 185,
   "metadata": {},
   "outputs": [
    {
     "name": "stdout",
     "output_type": "stream",
     "text": [
      "['split01', 'Grand_Polonaise_op_16', 'split_001', 69.7, 77.3, '.wav']\n"
     ]
    }
   ],
   "source": [
    "# load dataset\n",
    "xlsx_module = xlrd.open_workbook(dataset1_dir + 'MusicData.xlsx')\n",
    "xlsx_sheet = xlsx_module.sheets()[0]\n",
    "data_info = []\n",
    "for i in range(1, xlsx_sheet.nrows):\n",
    "    data_info.append(xlsx_sheet.row_values(i))\n",
    "print(data_info[0])"
   ]
  },
  {
   "cell_type": "code",
   "execution_count": 186,
   "metadata": {},
   "outputs": [],
   "source": [
    "x_url = []\n",
    "y_original = []\n",
    "data_cnt = 0\n",
    "\n",
    "for entry in data_info:\n",
    "    x_url.append(dataset1_dir + entry[1] + '/' + entry[2] + entry[5])\n",
    "    arousal = entry[3]\n",
    "    valence = entry[4]\n",
    "    arousal_norm = (np.float32(arousal) - arousal_attr1['mean']) / arousal_attr1['std_dev']\n",
    "    valence_norm = (np.float32(valence) - valence_attr1['mean']) / valence_attr1['std_dev']\n",
    "    y_original.append([arousal_norm, valence_norm])\n",
    "data_cnt = len(data_info)\n",
    "\n",
    "x_url = np.array(x_url)\n",
    "y_org = np.array(y_original)"
   ]
  },
  {
   "cell_type": "code",
   "execution_count": 189,
   "metadata": {},
   "outputs": [
    {
     "name": "stdout",
     "output_type": "stream",
     "text": [
      "405\n",
      "405\n",
      "324\n",
      "81\n",
      "45\n"
     ]
    }
   ],
   "source": [
    "x_url_train = []\n",
    "y_org_train = []\n",
    "x_url_val = []\n",
    "y_org_val= []\n",
    "x_url_test = []\n",
    "y_org_test = []\n",
    "\n",
    "shuffler = np.random.permutation(data_cnt)\n",
    "x_url = x_url[shuffler]\n",
    "y_org = y_org[shuffler]\n",
    "\n",
    "split_point = int(data_cnt * 0.9)\n",
    "x_url_tr = x_url[:split_point]\n",
    "y_org_tr = y_org[:split_point]\n",
    "\n",
    "x_url_train = x_url_tr[:int(split_point * 0.8)]\n",
    "y_org_train = y_org_tr[:int(split_point * 0.8)]\n",
    "\n",
    "x_url_val = x_url_tr[int(split_point * 0.8):]\n",
    "y_org_val = y_org_tr[int(split_point* 0.8):]\n",
    "\n",
    "x_url_test = x_url[split_point:]\n",
    "y_org_test = y_org[split_point:]\n",
    "\n",
    "print(split_point)\n",
    "print(len(x_url_tr))\n",
    "print(len(x_url_train))\n",
    "print(len(x_url_val))\n",
    "print(len(x_url_test))"
   ]
  },
  {
   "cell_type": "code",
   "execution_count": 190,
   "metadata": {
    "tags": []
   },
   "outputs": [
    {
     "name": "stdout",
     "output_type": "stream",
     "text": [
      "Generating training data\n",
      "Training data generate complete\n",
      "5126\n",
      "5126\n",
      "5126\n",
      "Generating validation data\n",
      "Training data generate complete\n",
      "1322\n",
      "1322\n",
      "1322\n",
      "Generating testing data\n",
      "Testing data generate complete\n",
      "792\n",
      "792\n",
      "792\n"
     ]
    }
   ],
   "source": [
    "x_audio_train = []\n",
    "x_feat_train = []\n",
    "y_train = []\n",
    "\n",
    "x_audio_val = []\n",
    "x_feat_val = []\n",
    "y_val = []\n",
    "\n",
    "x_audio_test = []\n",
    "x_feat_test = []\n",
    "y_test = []\n",
    "\n",
    "print('Generating training data')\n",
    "gen_dataset(x_url_train, y_org_train, x_audio_train, x_feat_train, y_train, 2)\n",
    "print('Training data generate complete')\n",
    "print(len(x_audio_train))\n",
    "print(len(x_feat_train))\n",
    "print(len(y_train))\n",
    "\n",
    "print('Generating validation data')\n",
    "gen_dataset(x_url_val, y_org_val, x_audio_val, x_feat_val, y_val, 2)\n",
    "print('Training data generate complete')\n",
    "print(len(x_audio_val))\n",
    "print(len(x_feat_val))\n",
    "print(len(y_val))\n",
    "\n",
    "print('Generating testing data')\n",
    "gen_dataset(x_url_test, y_org_test, x_audio_test, x_feat_test, y_test, 2)\n",
    "print('Testing data generate complete')\n",
    "print(len(x_audio_test))\n",
    "print(len(x_feat_test))\n",
    "print(len(y_test))"
   ]
  },
  {
   "cell_type": "code",
   "execution_count": 191,
   "metadata": {},
   "outputs": [],
   "source": [
    "x_audio_train = np.array(x_audio_train)\n",
    "x_feat_train = np.array(x_feat_train)\n",
    "y_train = np.array(y_train)\n",
    "\n",
    "x_audio_val = np.array(x_audio_val)\n",
    "x_feat_val = np.array(x_feat_val)\n",
    "y_val = np.array(y_val)\n",
    "\n",
    "x_audio_test = np.array(x_audio_test)\n",
    "x_feat_test = np.array(x_feat_test)\n",
    "y_test = np.array(y_test)\n"
   ]
  },
  {
   "cell_type": "code",
   "execution_count": 192,
   "metadata": {},
   "outputs": [
    {
     "name": "stdout",
     "output_type": "stream",
     "text": [
      "(5126, 88200)\n",
      "(5126, 25)\n",
      "(5126, 2)\n",
      "(1322, 88200)\n",
      "(1322, 25)\n",
      "(1322, 2)\n",
      "(792, 88200)\n",
      "(792, 25)\n",
      "(792, 2)\n"
     ]
    }
   ],
   "source": [
    "# only data1\n",
    "print(x_audio_train.shape)\n",
    "print(x_feat_train.shape)\n",
    "print(y_train.shape)\n",
    "\n",
    "print(x_audio_val.shape)\n",
    "print(x_feat_val.shape)\n",
    "print(y_val.shape)\n",
    "\n",
    "print(x_audio_test.shape)\n",
    "print(x_feat_test.shape)\n",
    "print(y_test.shape)\n",
    "\n",
    "# save after slicing window\n",
    "np.save('window_data/data1/x_audio_train', x_audio_train)\n",
    "np.save('window_data/data1/x_feat_train', x_feat_train)\n",
    "np.save('window_data/data1/y_train', y_train)\n",
    "\n",
    "np.save('window_data/data1/x_audio_val', x_audio_val)\n",
    "np.save('window_data/data1/x_feat_val', x_feat_val)\n",
    "np.save('window_data/data1/y_val', y_val)\n",
    "\n",
    "np.save('window_data/data1/x_audio_test', x_audio_test)\n",
    "np.save('window_data/data1/x_feat_test', x_feat_test)\n",
    "np.save('window_data/data1/y_test', y_test)"
   ]
  },
  {
   "cell_type": "markdown",
   "metadata": {
    "jp-MarkdownHeadingCollapsed": true,
    "tags": []
   },
   "source": [
    "# Dataset 2\n",
    "## Download Spotify Music and Write Label File"
   ]
  },
  {
   "cell_type": "code",
   "execution_count": null,
   "metadata": {
    "tags": []
   },
   "outputs": [],
   "source": [
    "df = pd.read_csv(dataset2_dir + 'muse_v3.csv').astype({'valence_tags': np.float32, 'arousal_tags':np.float32, 'dominance_tags':np.float32})"
   ]
  },
  {
   "cell_type": "code",
   "execution_count": null,
   "metadata": {
    "tags": []
   },
   "outputs": [],
   "source": [
    "sample = df.dropna(subset=['spotify_id'])[:5]\n",
    "tracks = sample['track'].to_list()\n",
    "artists = sample['artist'].to_list()\n",
    "genres = sample['genre'].to_list()\n",
    "spotify_ids = sample['spotify_id'].to_list()\n",
    "arousals = sample['arousal_tags'].to_list()\n",
    "valences = sample['valence_tags'].to_list()"
   ]
  },
  {
   "cell_type": "code",
   "execution_count": null,
   "metadata": {},
   "outputs": [],
   "source": [
    "def write_music(url, idx):\n",
    "    mp3file = urllib.request.urlopen(url)\n",
    "    with open(dataset2_dir + str(idx) + '.wav', 'wb') as output:\n",
    "        output.write(mp3file.read())"
   ]
  },
  {
   "cell_type": "code",
   "execution_count": null,
   "metadata": {
    "tags": []
   },
   "outputs": [],
   "source": [
    "x_url = []\n",
    "y = []\n",
    "cnt = 0\n",
    "for i, track in enumerate(tracks):\n",
    "    spotify_track = spotify.track(spotify_ids[i])\n",
    "    url = spotify_track.get('preview_url')\n",
    "    if url:\n",
    "        x_url.append(dataset2_dir + str(cnt) + '.wav')\n",
    "        y.append([arousals[i], valences[i]])\n",
    "        write_music(url, cnt)\n",
    "        cnt += 1\n",
    "print(cnt)"
   ]
  },
  {
   "cell_type": "code",
   "execution_count": null,
   "metadata": {},
   "outputs": [],
   "source": [
    "with open(dataset2_dir + 'label.txt', 'w') as f:\n",
    "    for i in range(len(x_url)):\n",
    "        f.write(x_url[i] + ' ')\n",
    "        f.write(str(y[i][0]) + ' ')\n",
    "        f.write(str(y[i][1]) + '\\n')"
   ]
  },
  {
   "cell_type": "markdown",
   "metadata": {
    "jp-MarkdownHeadingCollapsed": true,
    "tags": []
   },
   "source": [
    "## Dataset2 Loading"
   ]
  },
  {
   "cell_type": "code",
   "execution_count": null,
   "metadata": {},
   "outputs": [],
   "source": [
    "# read data\n",
    "x_url = []\n",
    "y_original = []\n",
    "data_cnt = 0\n",
    "with open(dataset2_dir + 'label.txt', 'r') as f:\n",
    "    lines = f.readlines()\n",
    "    for line in lines:\n",
    "        url, arousal, valence = line.split(' ')\n",
    "        x_url.append(url)\n",
    "        arousal_norm = (np.float32(arousal) - arousal_attr2['mean']) / arousal_attr2['std_dev']\n",
    "        valence_norm = (np.float32(valence) - valence_attr2['mean']) / valence_attr2['std_dev']\n",
    "        y_original.append([arousal_norm, valence_norm])\n",
    "data_cnt = len(lines)"
   ]
  },
  {
   "cell_type": "code",
   "execution_count": null,
   "metadata": {
    "tags": []
   },
   "outputs": [
    {
     "name": "stdout",
     "output_type": "stream",
     "text": [
      "0\n",
      "0\n",
      "0\n"
     ]
    }
   ],
   "source": [
    "x_audio2 = []\n",
    "x_feature2 = []\n",
    "y2 = []\n",
    "audio_id2 = []\n",
    "\n",
    "#gen_dataset(x_url, y_original, x_audio2, x_feature2, y2, audio_id2)\n",
    "\n",
    "print(len(x_audio2))\n",
    "print(len(x_feature2))\n",
    "print(len(y2))"
   ]
  },
  {
   "cell_type": "code",
   "execution_count": null,
   "metadata": {},
   "outputs": [],
   "source": [
    "x_audio = []\n",
    "x_feature = []\n",
    "y = []\n",
    "\n",
    "x_audio = np.array(x_audio1 + x_audio2)\n",
    "x_feature = np.array(x_feature1 + x_feature2)\n",
    "y = np.array(y1 + y2)"
   ]
  },
  {
   "cell_type": "code",
   "execution_count": null,
   "metadata": {},
   "outputs": [
    {
     "name": "stdout",
     "output_type": "stream",
     "text": [
      "(808, 88200)\n",
      "(808, 25)\n",
      "(808, 2)\n",
      "808\n"
     ]
    }
   ],
   "source": [
    "print(x_audio.shape)\n",
    "print(x_feature.shape)\n",
    "print(y.shape)\n",
    "print(len(x_audio))"
   ]
  },
  {
   "cell_type": "markdown",
   "metadata": {
    "tags": []
   },
   "source": [
    "# Split into Time Windows"
   ]
  },
  {
   "cell_type": "code",
   "execution_count": 68,
   "metadata": {},
   "outputs": [],
   "source": [
    "def label_class(y):\n",
    "    out = list()\n",
    "    for i in range(y.shape[0]):\n",
    "        label = y[i]\n",
    "        if label[0] > 0 and label[1] > 0:\n",
    "            emo = [1, 0, 0, 0] # happy\n",
    "        elif label[0] > 0 and label[1] < 0:\n",
    "            emo = [0, 1, 0, 0] # tensional\n",
    "        elif label[0] < 0 and label[1] < 0:\n",
    "            emo = [0, 0, 1, 0]\n",
    "        else:\n",
    "            emo = [0, 0, 0, 1]\n",
    "\n",
    "        out.append(emo)\n",
    "    return np.array(out)\n",
    "            "
   ]
  },
  {
   "cell_type": "code",
   "execution_count": 193,
   "metadata": {},
   "outputs": [],
   "source": [
    "# LOAD BACK\n",
    "x_audio_train = np.load('window_data/data1/x_audio_train.npy')\n",
    "x_audio_val = np.load('window_data/data1/x_audio_val.npy')\n",
    "x_audio_test = np.load('window_data/data1/x_audio_test.npy')\n",
    "\n",
    "x_feat_train = np.load('window_data/data1/x_feat_train.npy')\n",
    "x_feat_val = np.load('window_data/data1/x_feat_val.npy')\n",
    "x_feat_test = np.load('window_data/data1/x_feat_test.npy')\n",
    "\n",
    "y_train = np.load('window_data/data1/y_train.npy')\n",
    "y_val = np.load('window_data/data1/y_val.npy')\n",
    "y_test = np.load('window_data/data1/y_test.npy')"
   ]
  },
  {
   "cell_type": "code",
   "execution_count": 194,
   "metadata": {},
   "outputs": [
    {
     "name": "stdout",
     "output_type": "stream",
     "text": [
      "(5126, 88200)\n",
      "(5126, 25)\n",
      "(5126, 2)\n",
      "(1322, 88200)\n",
      "(1322, 25)\n",
      "(1322, 2)\n",
      "(792, 88200)\n",
      "(792, 25)\n",
      "(792, 2)\n"
     ]
    }
   ],
   "source": [
    "print(x_audio_train.shape)\n",
    "print(x_feat_train.shape)\n",
    "print(y_train.shape)\n",
    "\n",
    "print(x_audio_val.shape)\n",
    "print(x_feat_val.shape)\n",
    "print(y_val.shape)\n",
    "\n",
    "print(x_audio_test.shape)\n",
    "print(x_feat_test.shape)\n",
    "print(y_test.shape)"
   ]
  },
  {
   "cell_type": "code",
   "execution_count": 195,
   "metadata": {},
   "outputs": [
    {
     "name": "stdout",
     "output_type": "stream",
     "text": [
      "(5126, 4)\n",
      "(1322, 4)\n",
      "(792, 4)\n",
      "[1518 1082 1292 1234]\n",
      "[312 280 344 386]\n",
      "[232  96 280 184]\n"
     ]
    }
   ],
   "source": [
    "y_train_class = label_class(y_train)\n",
    "y_val_class = label_class(y_val)\n",
    "y_test_class = label_class(y_test)\n",
    "\n",
    "print(y_train_class.shape)\n",
    "print(y_val_class.shape)\n",
    "print(y_test_class.shape)\n",
    "\n",
    "print(np.sum(y_train_class, axis=0))\n",
    "print(np.sum(y_val_class, axis=0))\n",
    "print(np.sum(y_test_class, axis=0))"
   ]
  },
  {
   "cell_type": "markdown",
   "metadata": {
    "tags": []
   },
   "source": [
    "# Build Model"
   ]
  },
  {
   "cell_type": "code",
   "execution_count": 23,
   "metadata": {},
   "outputs": [
    {
     "name": "stdout",
     "output_type": "stream",
     "text": [
      "True\n"
     ]
    }
   ],
   "source": [
    "import tensorflow as tf\n",
    "import tensorflow.keras\n",
    "from tensorflow.keras import layers, Model, Input\n",
    "from tensorflow.keras.layers import Dense, Activation, Dropout, Conv2D, MaxPool2D, Flatten\n",
    "from numpy import array\n",
    "import importlib\n",
    "print(tf.test.is_gpu_available())"
   ]
  },
  {
   "cell_type": "code",
   "execution_count": 151,
   "metadata": {},
   "outputs": [],
   "source": [
    "def build_conv(time_window, out_num):\n",
    "\n",
    "    input_layer_1D = keras.Input(shape=(time_window,1), name='time_series_inputs')\n",
    "\n",
    "\n",
    "    x = layers.Reshape((420, 210, 1))(input_layer_1D)\n",
    "    \n",
    "    x = layers.Conv2D(filters=32,kernel_size=(3,3), activation='leaky_relu', padding='same')(x)\n",
    "    x = layers.MaxPooling2D(pool_size=(2,2),padding='same')(x)\n",
    "    x = layers.Dropout(0.1)(x)\n",
    "    \n",
    "    x = layers.Conv2D(filters=64,kernel_size=(3,3), activation='leaky_relu', padding='same')(x)\n",
    "    x = layers.MaxPooling2D(pool_size=(2,2),padding='same')(x) \n",
    "    x = layers.Dropout(0.1)(x)\n",
    "    \n",
    "    x = layers.Conv2D(filters=128,kernel_size=(3,3), activation='leaky_relu', padding='same')(x)\n",
    "    x = layers.MaxPooling2D(pool_size=(2,2),padding='same')(x)\n",
    "    x = layers.Dropout(0.1)(x)\n",
    "    \n",
    "    x = layers.Conv2D(filters=256,kernel_size=(3,3), activation='leaky_relu', padding='same')(x)\n",
    "    x = layers.MaxPooling2D(pool_size=(2,2),padding='same')(x)\n",
    "    x = layers.Dropout(0.1)(x)\n",
    "    \n",
    "    x = layers.GlobalAveragePooling2D()(x)\n",
    "    \n",
    "    x = layers.Flatten()(x)\n",
    "    x = layers.Dropout(0.2)(x)\n",
    "\n",
    "    #output_layer = layers.Dense(out_num, activation='softmax')(x)\n",
    "    output_layer = layers.Dense(out_num, activation='leaky_relu')(x)\n",
    "    conv_model = keras.Model(inputs=input_layer_1D, outputs=output_layer)\n",
    "    \n",
    "    return conv_model"
   ]
  },
  {
   "cell_type": "code",
   "execution_count": 156,
   "metadata": {},
   "outputs": [],
   "source": [
    "def build_feature_branch(feat_num=25):\n",
    "\n",
    "    input_layer = keras.Input(shape=(feat_num,1), name='feat_inputs')\n",
    "    x = layers.Flatten()(input_layer)\n",
    "    #x = layers.Dense(units=64,activation='relu')(x)\n",
    "    output_layer = layers.Dense(units=32)(x)\n",
    "    feat_branch = Model(inputs=input_layer, outputs=output_layer)\n",
    "\n",
    "    return feat_branch"
   ]
  },
  {
   "cell_type": "code",
   "execution_count": 196,
   "metadata": {},
   "outputs": [],
   "source": [
    "conv = build_conv(time_window=sr*duration, out_num=64)\n",
    "feat_branch = build_feature_branch(feat_num=25)"
   ]
  },
  {
   "cell_type": "code",
   "execution_count": 197,
   "metadata": {},
   "outputs": [
    {
     "name": "stdout",
     "output_type": "stream",
     "text": [
      "Model: \"model_40\"\n",
      "__________________________________________________________________________________________________\n",
      "Layer (type)                    Output Shape         Param #     Connected to                     \n",
      "==================================================================================================\n",
      "time_series_inputs (InputLayer) [(None, 88200, 1)]   0                                            \n",
      "__________________________________________________________________________________________________\n",
      "reshape_13 (Reshape)            (None, 420, 210, 1)  0           time_series_inputs[0][0]         \n",
      "__________________________________________________________________________________________________\n",
      "conv2d_43 (Conv2D)              (None, 420, 210, 32) 320         reshape_13[0][0]                 \n",
      "__________________________________________________________________________________________________\n",
      "max_pooling2d_43 (MaxPooling2D) (None, 210, 105, 32) 0           conv2d_43[0][0]                  \n",
      "__________________________________________________________________________________________________\n",
      "dropout_68 (Dropout)            (None, 210, 105, 32) 0           max_pooling2d_43[0][0]           \n",
      "__________________________________________________________________________________________________\n",
      "conv2d_44 (Conv2D)              (None, 210, 105, 64) 18496       dropout_68[0][0]                 \n",
      "__________________________________________________________________________________________________\n",
      "max_pooling2d_44 (MaxPooling2D) (None, 105, 53, 64)  0           conv2d_44[0][0]                  \n",
      "__________________________________________________________________________________________________\n",
      "dropout_69 (Dropout)            (None, 105, 53, 64)  0           max_pooling2d_44[0][0]           \n",
      "__________________________________________________________________________________________________\n",
      "conv2d_45 (Conv2D)              (None, 105, 53, 128) 73856       dropout_69[0][0]                 \n",
      "__________________________________________________________________________________________________\n",
      "max_pooling2d_45 (MaxPooling2D) (None, 53, 27, 128)  0           conv2d_45[0][0]                  \n",
      "__________________________________________________________________________________________________\n",
      "dropout_70 (Dropout)            (None, 53, 27, 128)  0           max_pooling2d_45[0][0]           \n",
      "__________________________________________________________________________________________________\n",
      "conv2d_46 (Conv2D)              (None, 53, 27, 256)  295168      dropout_70[0][0]                 \n",
      "__________________________________________________________________________________________________\n",
      "max_pooling2d_46 (MaxPooling2D) (None, 27, 14, 256)  0           conv2d_46[0][0]                  \n",
      "__________________________________________________________________________________________________\n",
      "dropout_71 (Dropout)            (None, 27, 14, 256)  0           max_pooling2d_46[0][0]           \n",
      "__________________________________________________________________________________________________\n",
      "global_average_pooling2d_8 (Glo (None, 256)          0           dropout_71[0][0]                 \n",
      "__________________________________________________________________________________________________\n",
      "flatten_26 (Flatten)            (None, 256)          0           global_average_pooling2d_8[0][0] \n",
      "__________________________________________________________________________________________________\n",
      "feat_inputs (InputLayer)        [(None, 25, 1)]      0                                            \n",
      "__________________________________________________________________________________________________\n",
      "dropout_72 (Dropout)            (None, 256)          0           flatten_26[0][0]                 \n",
      "__________________________________________________________________________________________________\n",
      "flatten_27 (Flatten)            (None, 25)           0           feat_inputs[0][0]                \n",
      "__________________________________________________________________________________________________\n",
      "dense_50 (Dense)                (None, 64)           16448       dropout_72[0][0]                 \n",
      "__________________________________________________________________________________________________\n",
      "dense_51 (Dense)                (None, 32)           832         flatten_27[0][0]                 \n",
      "__________________________________________________________________________________________________\n",
      "concatenate_12 (Concatenate)    (None, 96)           0           dense_50[0][0]                   \n",
      "                                                                 dense_51[0][0]                   \n",
      "__________________________________________________________________________________________________\n",
      "dense_52 (Dense)                (None, 16)           1552        concatenate_12[0][0]             \n",
      "__________________________________________________________________________________________________\n",
      "dropout_73 (Dropout)            (None, 16)           0           dense_52[0][0]                   \n",
      "__________________________________________________________________________________________________\n",
      "dense_53 (Dense)                (None, 4)            68          dropout_73[0][0]                 \n",
      "==================================================================================================\n",
      "Total params: 406,740\n",
      "Trainable params: 406,740\n",
      "Non-trainable params: 0\n",
      "__________________________________________________________________________________________________\n"
     ]
    }
   ],
   "source": [
    "#feat_input = keras.Input(shape=(15,), name='feat_inputs')\n",
    "\n",
    "combined = layers.Concatenate()([conv.output, feat_branch.output])\n",
    "combined = layers.Dense(units=16)(combined)\n",
    "combined = layers.Dropout(0.1)(combined)\n",
    "\n",
    "classification = layers.Dense(4, activation='softmax')(combined)\n",
    "\n",
    "model = keras.Model(inputs=[conv.input, feat_branch.input], outputs=classification)\n",
    "model.summary()"
   ]
  },
  {
   "cell_type": "code",
   "execution_count": 198,
   "metadata": {},
   "outputs": [
    {
     "data": {
      "image/png": "[encoded data removed]",
      "text/plain": [
       "<IPython.core.display.Image object>"
      ]
     },
     "execution_count": 198,
     "metadata": {},
     "output_type": "execute_result"
    }
   ],
   "source": [
    "tf.keras.utils.plot_model(\n",
    "    model,\n",
    "    to_file=\"model.png\",\n",
    "    show_shapes=True,\n",
    "    show_layer_names=False,\n",
    "    rankdir=\"TB\",\n",
    "    expand_nested=False,\n",
    "    dpi=50\n",
    ")"
   ]
  },
  {
   "cell_type": "code",
   "execution_count": 199,
   "metadata": {},
   "outputs": [],
   "source": [
    "model_loss_path = 'model_loss.h5'\n",
    "model_acc_path = 'model_acc.h5'\n",
    "check_pt_loss = tf.keras.callbacks.ModelCheckpoint(model_loss_path, monitor='val_loss', verbose=0, save_best_only=True, save_weight_only=False)\n",
    "check_pt_acc = tf.keras.callbacks.ModelCheckpoint(model_acc_path, monitor='val_loss', verbose=0, save_best_only=True, save_weight_only=False)\n",
    "model.compile(optimizer='adam', loss='categorical_crossentropy', metrics=['accuracy'])"
   ]
  },
  {
   "cell_type": "code",
   "execution_count": 161,
   "metadata": {},
   "outputs": [
    {
     "name": "stdout",
     "output_type": "stream",
     "text": [
      "(6674, 88200)\n",
      "(6674, 25)\n",
      "(6674, 4)\n"
     ]
    }
   ],
   "source": [
    "'''shuffler1 = np.random.permutation(y_train_class.shape[0])\n",
    "x_audio_train_new = x_audio_train[shuffler1]\n",
    "x_feat_train_new = x_feat_train[shuffler1]\n",
    "y_train_class_new = y_train_class[shuffler1]\n",
    "print(x_audio_train_new.shape)\n",
    "print(x_feat_train_new.shape)\n",
    "print(y_train_class_new.shape)'''"
   ]
  },
  {
   "cell_type": "code",
   "execution_count": 200,
   "metadata": {},
   "outputs": [
    {
     "name": "stdout",
     "output_type": "stream",
     "text": [
      "Epoch 1/100\n",
      "321/321 [==============================] - 16s 47ms/step - loss: 380.6424 - accuracy: 0.2585 - val_loss: 70.0999 - val_accuracy: 0.1982\n",
      "Epoch 2/100\n",
      "321/321 [==============================] - 14s 43ms/step - loss: 77.2980 - accuracy: 0.2760 - val_loss: 30.8327 - val_accuracy: 0.2428\n",
      "Epoch 3/100\n",
      "321/321 [==============================] - 14s 43ms/step - loss: 69.5952 - accuracy: 0.2786 - val_loss: 29.6740 - val_accuracy: 0.2874\n",
      "Epoch 4/100\n",
      "321/321 [==============================] - 14s 42ms/step - loss: 62.7562 - accuracy: 0.3098 - val_loss: 61.6140 - val_accuracy: 0.2874\n",
      "Epoch 5/100\n",
      "321/321 [==============================] - 14s 43ms/step - loss: 39.7420 - accuracy: 0.3426 - val_loss: 19.4365 - val_accuracy: 0.4372\n",
      "Epoch 6/100\n",
      "321/321 [==============================] - 14s 43ms/step - loss: 38.6589 - accuracy: 0.3675 - val_loss: 76.6192 - val_accuracy: 0.4501\n",
      "Epoch 7/100\n",
      "321/321 [==============================] - 14s 42ms/step - loss: 28.1711 - accuracy: 0.4056 - val_loss: 22.0210 - val_accuracy: 0.4107\n",
      "Epoch 8/100\n",
      "321/321 [==============================] - 14s 42ms/step - loss: 22.1147 - accuracy: 0.4516 - val_loss: 19.3691 - val_accuracy: 0.4523\n",
      "Epoch 9/100\n",
      "321/321 [==============================] - 14s 42ms/step - loss: 20.2679 - accuracy: 0.4682 - val_loss: 22.1925 - val_accuracy: 0.4523\n",
      "Epoch 10/100\n",
      "321/321 [==============================] - 14s 43ms/step - loss: 18.1046 - accuracy: 0.4840 - val_loss: 19.9979 - val_accuracy: 0.5000\n",
      "Epoch 11/100\n",
      "321/321 [==============================] - 14s 44ms/step - loss: 12.2154 - accuracy: 0.5213 - val_loss: 19.1081 - val_accuracy: 0.5333\n",
      "Epoch 12/100\n",
      "321/321 [==============================] - 14s 43ms/step - loss: 8.9971 - accuracy: 0.5293 - val_loss: 7.6289 - val_accuracy: 0.5318\n",
      "Epoch 13/100\n",
      "321/321 [==============================] - 14s 44ms/step - loss: 6.6317 - accuracy: 0.5527 - val_loss: 4.5730 - val_accuracy: 0.4887\n",
      "Epoch 14/100\n",
      "321/321 [==============================] - 14s 43ms/step - loss: 5.4773 - accuracy: 0.5683 - val_loss: 4.8181 - val_accuracy: 0.4977\n",
      "Epoch 15/100\n",
      "321/321 [==============================] - 14s 44ms/step - loss: 3.9726 - accuracy: 0.5673 - val_loss: 2.3387 - val_accuracy: 0.5439\n",
      "Epoch 16/100\n",
      "321/321 [==============================] - 14s 43ms/step - loss: 2.5357 - accuracy: 0.6155 - val_loss: 4.1275 - val_accuracy: 0.4637\n",
      "Epoch 17/100\n",
      "321/321 [==============================] - 14s 43ms/step - loss: 1.9146 - accuracy: 0.6108 - val_loss: 5.2366 - val_accuracy: 0.4334\n",
      "Epoch 18/100\n",
      "321/321 [==============================] - 14s 43ms/step - loss: 1.2859 - accuracy: 0.6479 - val_loss: 1.7580 - val_accuracy: 0.5068\n",
      "Epoch 19/100\n",
      "321/321 [==============================] - 14s 44ms/step - loss: 0.9503 - accuracy: 0.6588 - val_loss: 1.2438 - val_accuracy: 0.5295\n",
      "Epoch 20/100\n",
      "321/321 [==============================] - 14s 43ms/step - loss: 0.8575 - accuracy: 0.6744 - val_loss: 1.1047 - val_accuracy: 0.5272\n",
      "Epoch 21/100\n",
      "321/321 [==============================] - 14s 42ms/step - loss: 0.8201 - accuracy: 0.6680 - val_loss: 1.1180 - val_accuracy: 0.5537\n",
      "Epoch 22/100\n",
      "321/321 [==============================] - 14s 43ms/step - loss: 0.7466 - accuracy: 0.7009 - val_loss: 1.2973 - val_accuracy: 0.5144\n",
      "Epoch 23/100\n",
      "321/321 [==============================] - 14s 44ms/step - loss: 0.7717 - accuracy: 0.6918 - val_loss: 1.0713 - val_accuracy: 0.5961\n",
      "Epoch 24/100\n",
      "321/321 [==============================] - 14s 43ms/step - loss: 0.7579 - accuracy: 0.6961 - val_loss: 1.1999 - val_accuracy: 0.5053\n",
      "Epoch 25/100\n",
      "321/321 [==============================] - 14s 44ms/step - loss: 0.7315 - accuracy: 0.6996 - val_loss: 1.2458 - val_accuracy: 0.5000\n",
      "Epoch 26/100\n",
      "321/321 [==============================] - 14s 43ms/step - loss: 0.7501 - accuracy: 0.6929 - val_loss: 1.1174 - val_accuracy: 0.5862\n",
      "Epoch 27/100\n",
      "321/321 [==============================] - 14s 43ms/step - loss: 0.7511 - accuracy: 0.6945 - val_loss: 1.0828 - val_accuracy: 0.5431\n",
      "Epoch 28/100\n",
      "321/321 [==============================] - 14s 43ms/step - loss: 0.7362 - accuracy: 0.6992 - val_loss: 1.1303 - val_accuracy: 0.5439\n",
      "Epoch 29/100\n",
      "321/321 [==============================] - 14s 44ms/step - loss: 0.7166 - accuracy: 0.7093 - val_loss: 1.0544 - val_accuracy: 0.6490\n",
      "Epoch 30/100\n",
      "321/321 [==============================] - 14s 44ms/step - loss: 0.7002 - accuracy: 0.7099 - val_loss: 1.9482 - val_accuracy: 0.5159\n",
      "Epoch 31/100\n",
      "321/321 [==============================] - 14s 43ms/step - loss: 0.6780 - accuracy: 0.7261 - val_loss: 1.4169 - val_accuracy: 0.5166\n",
      "Epoch 32/100\n",
      "321/321 [==============================] - 14s 44ms/step - loss: 0.6780 - accuracy: 0.7204 - val_loss: 1.1159 - val_accuracy: 0.6112\n",
      "Epoch 33/100\n",
      "321/321 [==============================] - 14s 43ms/step - loss: 0.6718 - accuracy: 0.7251 - val_loss: 1.1461 - val_accuracy: 0.6649\n",
      "Epoch 34/100\n",
      "321/321 [==============================] - 14s 43ms/step - loss: 0.6592 - accuracy: 0.7347 - val_loss: 1.2863 - val_accuracy: 0.5961\n",
      "Epoch 35/100\n",
      "321/321 [==============================] - 14s 44ms/step - loss: 0.6725 - accuracy: 0.7335 - val_loss: 1.1943 - val_accuracy: 0.6142\n",
      "Epoch 36/100\n",
      "321/321 [==============================] - 14s 43ms/step - loss: 0.6286 - accuracy: 0.7456 - val_loss: 1.2921 - val_accuracy: 0.6014\n",
      "Epoch 37/100\n",
      "321/321 [==============================] - 14s 43ms/step - loss: 0.6288 - accuracy: 0.7411 - val_loss: 1.5680 - val_accuracy: 0.5227\n",
      "Epoch 38/100\n",
      "321/321 [==============================] - 14s 43ms/step - loss: 0.6641 - accuracy: 0.7398 - val_loss: 1.3880 - val_accuracy: 0.5522\n",
      "Epoch 39/100\n",
      "321/321 [==============================] - 14s 43ms/step - loss: 0.5615 - accuracy: 0.7758 - val_loss: 1.3141 - val_accuracy: 0.6415\n",
      "Epoch 40/100\n",
      "321/321 [==============================] - 14s 44ms/step - loss: 0.6555 - accuracy: 0.7476 - val_loss: 1.2085 - val_accuracy: 0.5802\n",
      "Epoch 41/100\n",
      "321/321 [==============================] - 14s 44ms/step - loss: 0.5684 - accuracy: 0.7755 - val_loss: 1.0960 - val_accuracy: 0.6150\n",
      "Epoch 42/100\n",
      "321/321 [==============================] - 14s 43ms/step - loss: 0.5698 - accuracy: 0.7780 - val_loss: 1.9137 - val_accuracy: 0.4720\n",
      "Epoch 43/100\n",
      "321/321 [==============================] - 14s 44ms/step - loss: 0.5721 - accuracy: 0.7850 - val_loss: 2.0939 - val_accuracy: 0.5023\n",
      "Epoch 44/100\n",
      "321/321 [==============================] - 14s 44ms/step - loss: 0.5238 - accuracy: 0.8045 - val_loss: 1.1401 - val_accuracy: 0.6384\n",
      "Epoch 45/100\n",
      "321/321 [==============================] - 14s 44ms/step - loss: 0.5528 - accuracy: 0.7922 - val_loss: 1.5452 - val_accuracy: 0.5590\n",
      "Epoch 46/100\n",
      "321/321 [==============================] - 14s 44ms/step - loss: 0.5844 - accuracy: 0.7870 - val_loss: 1.7653 - val_accuracy: 0.5915\n",
      "Epoch 47/100\n",
      "321/321 [==============================] - 14s 43ms/step - loss: 0.4765 - accuracy: 0.8156 - val_loss: 1.3557 - val_accuracy: 0.5416\n",
      "Epoch 48/100\n",
      "321/321 [==============================] - 14s 43ms/step - loss: 0.4986 - accuracy: 0.8131 - val_loss: 1.4586 - val_accuracy: 0.6044\n",
      "Epoch 49/100\n",
      "321/321 [==============================] - 14s 44ms/step - loss: 0.4453 - accuracy: 0.8336 - val_loss: 2.2960 - val_accuracy: 0.4992\n",
      "Epoch 50/100\n",
      "321/321 [==============================] - 14s 44ms/step - loss: 0.4672 - accuracy: 0.8313 - val_loss: 1.5917 - val_accuracy: 0.6014\n",
      "Epoch 51/100\n",
      "321/321 [==============================] - 14s 43ms/step - loss: 0.4475 - accuracy: 0.8336 - val_loss: 2.0171 - val_accuracy: 0.6725\n",
      "Epoch 52/100\n",
      "321/321 [==============================] - 13s 42ms/step - loss: 0.4628 - accuracy: 0.8379 - val_loss: 1.4137 - val_accuracy: 0.6846\n",
      "Epoch 53/100\n",
      "321/321 [==============================] - 14s 43ms/step - loss: 0.4494 - accuracy: 0.8418 - val_loss: 1.7089 - val_accuracy: 0.5840\n",
      "Epoch 54/100\n",
      "321/321 [==============================] - 14s 44ms/step - loss: 0.4215 - accuracy: 0.8472 - val_loss: 1.5125 - val_accuracy: 0.5779\n",
      "Epoch 55/100\n",
      "321/321 [==============================] - 14s 43ms/step - loss: 0.4168 - accuracy: 0.8482 - val_loss: 1.5170 - val_accuracy: 0.6778\n",
      "Epoch 56/100\n",
      "321/321 [==============================] - 14s 42ms/step - loss: 0.3841 - accuracy: 0.8591 - val_loss: 1.3940 - val_accuracy: 0.5696\n",
      "Epoch 57/100\n",
      "321/321 [==============================] - 14s 42ms/step - loss: 0.4154 - accuracy: 0.8551 - val_loss: 1.6158 - val_accuracy: 0.7231\n",
      "Epoch 58/100\n",
      "321/321 [==============================] - 13s 42ms/step - loss: 0.3688 - accuracy: 0.8671 - val_loss: 1.8268 - val_accuracy: 0.6074\n",
      "Epoch 59/100\n",
      "321/321 [==============================] - 14s 43ms/step - loss: 0.3385 - accuracy: 0.8794 - val_loss: 1.8130 - val_accuracy: 0.5764\n",
      "Epoch 60/100\n",
      "321/321 [==============================] - 14s 44ms/step - loss: 0.3160 - accuracy: 0.8816 - val_loss: 1.5484 - val_accuracy: 0.6982\n",
      "Epoch 61/100\n",
      "321/321 [==============================] - 14s 44ms/step - loss: 0.4836 - accuracy: 0.8496 - val_loss: 1.5409 - val_accuracy: 0.6475\n",
      "Epoch 62/100\n",
      "321/321 [==============================] - 14s 44ms/step - loss: 0.2979 - accuracy: 0.8870 - val_loss: 1.3669 - val_accuracy: 0.6944\n",
      "Epoch 63/100\n",
      "321/321 [==============================] - 14s 44ms/step - loss: 0.2852 - accuracy: 0.8943 - val_loss: 1.6933 - val_accuracy: 0.6732\n",
      "Epoch 64/100\n",
      "321/321 [==============================] - 14s 44ms/step - loss: 0.3574 - accuracy: 0.8828 - val_loss: 1.8719 - val_accuracy: 0.6203\n",
      "Epoch 65/100\n",
      "321/321 [==============================] - 14s 43ms/step - loss: 0.3719 - accuracy: 0.8767 - val_loss: 1.9813 - val_accuracy: 0.6104\n",
      "Epoch 66/100\n",
      "321/321 [==============================] - 14s 44ms/step - loss: 0.2963 - accuracy: 0.8960 - val_loss: 1.8575 - val_accuracy: 0.6505\n",
      "Epoch 67/100\n",
      "321/321 [==============================] - 14s 44ms/step - loss: 0.2900 - accuracy: 0.8917 - val_loss: 1.8152 - val_accuracy: 0.6278\n",
      "Epoch 68/100\n",
      "321/321 [==============================] - 14s 44ms/step - loss: 0.2691 - accuracy: 0.9087 - val_loss: 1.9975 - val_accuracy: 0.6989\n",
      "Epoch 69/100\n",
      "321/321 [==============================] - 14s 44ms/step - loss: 0.3503 - accuracy: 0.8861 - val_loss: 1.5845 - val_accuracy: 0.6770\n",
      "Epoch 70/100\n",
      "321/321 [==============================] - 14s 44ms/step - loss: 0.2054 - accuracy: 0.9251 - val_loss: 1.8364 - val_accuracy: 0.7148\n",
      "Epoch 71/100\n",
      "321/321 [==============================] - 14s 43ms/step - loss: 0.2738 - accuracy: 0.9064 - val_loss: 1.7902 - val_accuracy: 0.6520\n",
      "Epoch 72/100\n",
      "321/321 [==============================] - 13s 42ms/step - loss: 0.3234 - accuracy: 0.8904 - val_loss: 2.4808 - val_accuracy: 0.6233\n",
      "Epoch 73/100\n",
      "321/321 [==============================] - 14s 42ms/step - loss: 0.2748 - accuracy: 0.9087 - val_loss: 2.2045 - val_accuracy: 0.6392\n",
      "Epoch 74/100\n",
      "321/321 [==============================] - 14s 44ms/step - loss: 0.2292 - accuracy: 0.9222 - val_loss: 1.9862 - val_accuracy: 0.6475\n",
      "Epoch 75/100\n",
      "321/321 [==============================] - 14s 43ms/step - loss: 0.2327 - accuracy: 0.9206 - val_loss: 1.5599 - val_accuracy: 0.7262\n",
      "Epoch 76/100\n",
      "321/321 [==============================] - 14s 44ms/step - loss: 0.2441 - accuracy: 0.9120 - val_loss: 1.8857 - val_accuracy: 0.6657\n",
      "Epoch 77/100\n",
      "321/321 [==============================] - 14s 43ms/step - loss: 0.2433 - accuracy: 0.9192 - val_loss: 2.3609 - val_accuracy: 0.5575\n",
      "Epoch 78/100\n",
      "321/321 [==============================] - 14s 43ms/step - loss: 0.3205 - accuracy: 0.9028 - val_loss: 1.9602 - val_accuracy: 0.6467\n",
      "Epoch 79/100\n",
      "321/321 [==============================] - 14s 44ms/step - loss: 0.1623 - accuracy: 0.9385 - val_loss: 2.1258 - val_accuracy: 0.7042\n",
      "Epoch 80/100\n",
      "321/321 [==============================] - 14s 43ms/step - loss: 0.2524 - accuracy: 0.9231 - val_loss: 1.4640 - val_accuracy: 0.6831\n",
      "Epoch 81/100\n",
      "321/321 [==============================] - 14s 42ms/step - loss: 0.2680 - accuracy: 0.9153 - val_loss: 2.1406 - val_accuracy: 0.7050\n",
      "Epoch 82/100\n",
      "321/321 [==============================] - 14s 43ms/step - loss: 0.2341 - accuracy: 0.9214 - val_loss: 3.5010 - val_accuracy: 0.5431\n",
      "Epoch 83/100\n",
      "321/321 [==============================] - 14s 44ms/step - loss: 0.2594 - accuracy: 0.9173 - val_loss: 1.8167 - val_accuracy: 0.7171\n",
      "Epoch 84/100\n",
      "321/321 [==============================] - 14s 44ms/step - loss: 0.2176 - accuracy: 0.9288 - val_loss: 2.0588 - val_accuracy: 0.6762\n",
      "Epoch 85/100\n",
      "321/321 [==============================] - 14s 44ms/step - loss: 0.1553 - accuracy: 0.9438 - val_loss: 1.8848 - val_accuracy: 0.7133\n",
      "Epoch 86/100\n",
      "321/321 [==============================] - 14s 44ms/step - loss: 0.3658 - accuracy: 0.8958 - val_loss: 1.5727 - val_accuracy: 0.7194\n",
      "Epoch 87/100\n",
      "321/321 [==============================] - 14s 44ms/step - loss: 0.1362 - accuracy: 0.9510 - val_loss: 2.3498 - val_accuracy: 0.6884\n",
      "Epoch 88/100\n",
      "321/321 [==============================] - 14s 43ms/step - loss: 0.3118 - accuracy: 0.9151 - val_loss: 1.9913 - val_accuracy: 0.7005\n",
      "Epoch 89/100\n",
      "321/321 [==============================] - 14s 44ms/step - loss: 0.1474 - accuracy: 0.9497 - val_loss: 1.9162 - val_accuracy: 0.7383\n",
      "Epoch 90/100\n",
      "321/321 [==============================] - 14s 43ms/step - loss: 0.1910 - accuracy: 0.9348 - val_loss: 1.9088 - val_accuracy: 0.6914\n",
      "Epoch 91/100\n",
      "321/321 [==============================] - 14s 44ms/step - loss: 0.2645 - accuracy: 0.9188 - val_loss: 1.7424 - val_accuracy: 0.7284\n",
      "Epoch 92/100\n",
      "321/321 [==============================] - 14s 44ms/step - loss: 0.1546 - accuracy: 0.9477 - val_loss: 1.9453 - val_accuracy: 0.7254\n",
      "Epoch 93/100\n",
      "321/321 [==============================] - 14s 44ms/step - loss: 0.2231 - accuracy: 0.9352 - val_loss: 2.1049 - val_accuracy: 0.6921\n",
      "Epoch 94/100\n",
      "321/321 [==============================] - 14s 44ms/step - loss: 0.2165 - accuracy: 0.9311 - val_loss: 1.8522 - val_accuracy: 0.7141\n",
      "Epoch 95/100\n",
      "321/321 [==============================] - 14s 44ms/step - loss: 0.1515 - accuracy: 0.9491 - val_loss: 2.5042 - val_accuracy: 0.6619\n",
      "Epoch 96/100\n",
      "321/321 [==============================] - 14s 43ms/step - loss: 0.2183 - accuracy: 0.9333 - val_loss: 1.8788 - val_accuracy: 0.7179\n",
      "Epoch 97/100\n",
      "321/321 [==============================] - 14s 44ms/step - loss: 0.1685 - accuracy: 0.9503 - val_loss: 1.4774 - val_accuracy: 0.6944\n",
      "Epoch 98/100\n",
      "321/321 [==============================] - 14s 44ms/step - loss: 0.1563 - accuracy: 0.9467 - val_loss: 2.2620 - val_accuracy: 0.7118\n",
      "Epoch 99/100\n",
      "321/321 [==============================] - 14s 43ms/step - loss: 0.3186 - accuracy: 0.9126 - val_loss: 1.8105 - val_accuracy: 0.7194\n",
      "Epoch 100/100\n",
      "321/321 [==============================] - 14s 44ms/step - loss: 0.1263 - accuracy: 0.9577 - val_loss: 2.2483 - val_accuracy: 0.6604\n"
     ]
    }
   ],
   "source": [
    "history = model.fit(\n",
    "                    [x_audio_train, x_feat_train],\n",
    "                    y_train_class,\n",
    "                    validation_data=([x_audio_val, x_feat_val], y_val_class),\n",
    "                    shuffle=True,\n",
    "                    epochs=100,\n",
    "                    batch_size=16,\n",
    "                    verbose=1,\n",
    "                    callbacks=[check_pt_loss, check_pt_acc]\n",
    "                    )"
   ]
  },
  {
   "cell_type": "code",
   "execution_count": 201,
   "metadata": {},
   "outputs": [],
   "source": [
    "# load back best model\n",
    "best_model = tf.keras.models.load_model(model_loss_path)"
   ]
  },
  {
   "cell_type": "markdown",
   "metadata": {},
   "source": [
    "# Estimation"
   ]
  },
  {
   "cell_type": "code",
   "execution_count": 202,
   "metadata": {},
   "outputs": [
    {
     "data": {
      "image/png": "[encoded data removed]",
      "text/plain": [
       "<Figure size 432x288 with 1 Axes>"
      ]
     },
     "metadata": {
      "needs_background": "light"
     },
     "output_type": "display_data"
    },
    {
     "data": {
      "image/png": "[encoded data removed]",
      "text/plain": [
       "<Figure size 432x288 with 1 Axes>"
      ]
     },
     "metadata": {
      "needs_background": "light"
     },
     "output_type": "display_data"
    }
   ],
   "source": [
    "plt.plot(history.history['accuracy'])\n",
    "plt.plot(history.history['val_accuracy'])\n",
    "plt.title('Model accuracy')\n",
    "plt.ylabel('Accuracy')\n",
    "plt.xlabel('Epoch')\n",
    "plt.legend(['Train', 'Test'], loc='upper left')\n",
    "plt.show()\n",
    "\n",
    "plt.plot(history.history['loss'])\n",
    "plt.plot(history.history['val_loss'])\n",
    "plt.title('Model loss')\n",
    "plt.ylabel('Loss')\n",
    "plt.xlabel('Epoch')\n",
    "plt.legend(['Train', 'Test'], loc='upper left')\n",
    "plt.show()"
   ]
  },
  {
   "cell_type": "code",
   "execution_count": 203,
   "metadata": {},
   "outputs": [
    {
     "name": "stdout",
     "output_type": "stream",
     "text": [
      "[0.06700403 0.00096231 0.19631626 0.7357175 ]\n"
     ]
    }
   ],
   "source": [
    "pre = best_model.predict([x_audio_test, x_feat_test])\n",
    "print(pre[1])\n",
    "pre=np.argmax(pre,axis=1)"
   ]
  },
  {
   "cell_type": "code",
   "execution_count": 204,
   "metadata": {},
   "outputs": [
    {
     "name": "stdout",
     "output_type": "stream",
     "text": [
      "25/25 [==============================] - 1s 26ms/step - loss: 0.9909 - accuracy: 0.6439\n",
      "[0.9908545017242432, 0.6439393758773804]\n"
     ]
    }
   ],
   "source": [
    "eva = best_model.evaluate([x_audio_test, x_feat_test], y_test_class)\n",
    "print(eva)"
   ]
  },
  {
   "cell_type": "code",
   "execution_count": 205,
   "metadata": {},
   "outputs": [
    {
     "data": {
      "image/png": "[encoded data removed]",
      "text/plain": [
       "<Figure size 576x432 with 2 Axes>"
      ]
     },
     "metadata": {
      "needs_background": "light"
     },
     "output_type": "display_data"
    }
   ],
   "source": [
    "import seaborn as sn\n",
    "from sklearn.metrics import confusion_matrix\n",
    "\n",
    "cm = confusion_matrix(np.argmax(y_test_class,axis=1), pre)\n",
    "fit = plt.figure(figsize=(8,6))\n",
    "plt.title('confusion matrix')\n",
    "sn.heatmap(cm,annot=True,cmap='OrRd',fmt='g')\n",
    "plt.xlabel('prediction')\n",
    "plt.ylabel('true label')\n",
    "plt.show()"
   ]
  }
 ],
 "metadata": {
  "kernelspec": {
   "display_name": "Python 3",
   "language": "python",
   "name": "python3"
  },
  "language_info": {
   "codemirror_mode": {
    "name": "ipython",
    "version": 3
   },
   "file_extension": ".py",
   "mimetype": "text/x-python",
   "name": "python",
   "nbconvert_exporter": "python",
   "pygments_lexer": "ipython3",
   "version": "3.6.9"
  },
  "toc-autonumbering": true,
  "toc-showcode": false,
  "toc-showmarkdowntxt": true
 },
 "nbformat": 4,
 "nbformat_minor": 4
}
